{
 "cells": [
  {
   "cell_type": "markdown",
   "metadata": {},
   "source": [
    "# Задание 8"
   ]
  },
  {
   "cell_type": "markdown",
   "metadata": {},
   "source": [
    "## 1. Wiki philosophy (0.5 баллов)\n",
    "Существует шуточный «закон Философии» для статей Википедии: если переходить по\n",
    "первой нормальной ссылке в статье, то рано или поздно мы придем на статью о философии.\n",
    "Ваша задача заключается в том, чтобы проверить этот закон.\n",
    "Для этого нужно написать программу, которая получает на вход ссылку на статью Википедии, а потом циклически переходит по первой нормальной ссылке и повторяет эту операцию\n",
    "(до тех пор, пока не будет достигнута статья о философии, или ссылки не зациклятся). Нормальной ссылкой будем называть ссылку, которая находится в основном содержании статьи,\n",
    "не в инфобоксах и не в служебных блоках, написана синим цветом (красный соответствует\n",
    "несуществующей статье), не курсивом, не являтся сноской и не находится в скобках.\n",
    "\n",
    "<b>Результат</b> должен представлять из себя несколько статистик (проверьте не менее 100 стр., <i>больше - лучше</i>):\n",
    "* Описание алгоритма, как вы решали, стр. по философии или нет?\n",
    "* Количество начальных ссылок vs Количество конечных тем страниц (0 - стр. не по философии, 1 - по философии).\n",
    "* Гистограмма длин путей.\n",
    "* Соотношений успешных и неуспешных запросов.\n",
    "* Что еще можно тут придумать? :)\n",
    "\n",
    "<b>Обратите внимание</b>, что для проверки нормальности не обязательно разбирать таблицы стилей и\n",
    "проверять цвет и т.п., достаточно сделать, чтобы программа работала для текущей верстки\n",
    "википедии (например, можно использовать атрибут class у тегов).\n",
    "Для удобства проверки сделайте, чтобы последовательность переходов выводилась на\n",
    "экран.\n",
    "\n",
    "<b>Внимание.</b> Чтобы не создавать большую нагрузку на сервер Википедии, сделайте так,\n",
    "чтобы ваша программа делала не более 2-х запросов в секунду. Для этого воспользуйтесь\n",
    "функцией sleep из модуля time.\n",
    "\n",
    "<b>PS</b> Лучше выполнять не в ipython notebook, а прислать отчет в pdf и код."
   ]
  },
  {
   "cell_type": "code",
   "execution_count": 1,
   "metadata": {},
   "outputs": [],
   "source": [
    "from requests import get, post\n",
    "import urllib\n",
    "import urllib.parse\n",
    "from bs4 import BeautifulSoup\n",
    "from IPython.core.display import display, HTML\n",
    "import time\n",
    "from tqdm import tqdm\n",
    "import re\n",
    "import matplotlib.pyplot as plt"
   ]
  },
  {
   "cell_type": "code",
   "execution_count": 2,
   "metadata": {},
   "outputs": [],
   "source": [
    "def getValidRef(soup):\n",
    "    for li in soup.findAll(attrs={'class':'mw-parser-output'}):\n",
    "        text = li.find_all('p')\n",
    "        for part in text:\n",
    "            for remove in part('i'):\n",
    "                remove.extract()\n",
    "                \n",
    "            links = part.find_all('a')\n",
    "            for link in links:                    \n",
    "                if link.has_attr('class') and link['class'] == 'new':\n",
    "                    continue\n",
    "                    \n",
    "                if not link.has_attr('title') or 'Help:' in link['title'] or 'Wikipedia:Media' in link['title']:\n",
    "                    continue\n",
    "#                 '(' + str(link) + ')' not in str(link.parent) and link['href'][-4:] != '.ogg'\n",
    "                \n",
    "                if re.search('[^\\)]*\\([^\\)]*' + str(link['title']) + '[^\\)]*\\)', str(part)) is None:\n",
    "                    return link['title']\n",
    "                \n",
    "        return None"
   ]
  },
  {
   "cell_type": "code",
   "execution_count": 3,
   "metadata": {},
   "outputs": [],
   "source": [
    "def isPhilosophical(soup):\n",
    "    cat = soup.find(attrs={'title':'Category:Philosophy'})\n",
    "    return cat is not None"
   ]
  },
  {
   "cell_type": "code",
   "execution_count": 4,
   "metadata": {},
   "outputs": [],
   "source": [
    "def google(query, history):\n",
    "    template = 'https://en.wikipedia.org/wiki/'\n",
    "    print(query)\n",
    "    req = get(template + query)\n",
    "    \n",
    "    assert req.status_code == 200, 'request failed'\n",
    "    \n",
    "    soup = BeautifulSoup(req.text, \"lxml\")\n",
    "    if isPhilosophical(soup):\n",
    "        print('Succes!', query)\n",
    "        return 1, len(history)\n",
    "    \n",
    "    ref = getValidRef(soup)\n",
    "    if ref is None:\n",
    "        print('no links!')\n",
    "        return 0, 0\n",
    "    \n",
    "    if ref in history:\n",
    "        print(ref)\n",
    "        print('cycle!')\n",
    "        return 0, 0\n",
    "    \n",
    "    time.sleep(0.5)\n",
    "#     print(ref)\n",
    "    history.append(query)\n",
    "    return google(ref, history)"
   ]
  },
  {
   "cell_type": "code",
   "execution_count": 5,
   "metadata": {},
   "outputs": [
    {
     "name": "stdout",
     "output_type": "stream",
     "text": [
      "Alappuzha_district\n",
      "Districts of Kerala\n",
      "India\n",
      "South Asia\n",
      "South\n",
      "Cardinal direction\n",
      "North\n",
      "Compass points\n",
      "Compass\n",
      "Navigation\n",
      "Term of art\n",
      "Language\n",
      "Communication\n",
      "Meaning (semiotics)\n",
      "Semiotics\n",
      "Meaning-making\n",
      "Psychology\n",
      "Science\n",
      "Knowledge\n",
      "Succes! Knowledge\n"
     ]
    },
    {
     "data": {
      "text/plain": [
       "(1, 18)"
      ]
     },
     "execution_count": 5,
     "metadata": {},
     "output_type": "execute_result"
    }
   ],
   "source": [
    "google('Alappuzha_district', [])"
   ]
  },
  {
   "cell_type": "code",
   "execution_count": 6,
   "metadata": {},
   "outputs": [
    {
     "name": "stderr",
     "output_type": "stream",
     "text": [
      "\r",
      "  0%|          | 0/100 [00:00<?, ?it/s]"
     ]
    },
    {
     "name": "stdout",
     "output_type": "stream",
     "text": [
      "Special:Random\n",
      "Western Australia\n",
      "States and territories of Australia\n",
      "Federal territory\n",
      "Federated state\n",
      "Constitution\n",
      "State (polity)\n",
      "Political\n",
      "Decision-making\n",
      "Psychology\n",
      "Science\n",
      "Knowledge\n"
     ]
    },
    {
     "name": "stderr",
     "output_type": "stream",
     "text": [
      "\r",
      "  1%|          | 1/100 [00:13<21:40, 13.14s/it]"
     ]
    },
    {
     "name": "stdout",
     "output_type": "stream",
     "text": [
      "Succes! Knowledge\n",
      "Special:Random\n",
      "Somerset County, Pennsylvania\n",
      "County (United States)\n",
      "Administrative division\n",
      "Country\n",
      "Political geography\n",
      "Politics\n",
      "Decision-making\n",
      "Psychology\n",
      "Science\n",
      "Knowledge\n"
     ]
    },
    {
     "name": "stderr",
     "output_type": "stream",
     "text": [
      "\r",
      "  2%|▏         | 2/100 [00:24<19:42, 12.06s/it]"
     ]
    },
    {
     "name": "stdout",
     "output_type": "stream",
     "text": [
      "Succes! Knowledge\n",
      "Special:Random\n",
      "Moth\n",
      "Insect\n",
      "Hexapoda\n"
     ]
    },
    {
     "name": "stderr",
     "output_type": "stream",
     "text": [
      "\r",
      "  3%|▎         | 3/100 [00:27<14:57,  9.25s/it]"
     ]
    },
    {
     "name": "stdout",
     "output_type": "stream",
     "text": [
      "Insect\n",
      "cycle!\n",
      "Special:Random\n",
      "Peace and Democracy Party\n",
      "List of political parties in Turkey\n",
      "Turkey\n",
      "List of transcontinental countries\n",
      "Continent\n",
      "Land\n",
      "Earth\n",
      "Planet\n",
      "Astronomical body\n",
      "Physical body\n",
      "Physics\n",
      "Romanization of Ancient Greek\n",
      "Transliteration\n",
      "Conversion of scripts\n",
      "Writing system\n",
      "Communication\n",
      "Meaning (semiotics)\n",
      "Semiotics\n",
      "Meaning-making\n",
      "Psychology\n",
      "Science\n",
      "Knowledge\n"
     ]
    },
    {
     "name": "stderr",
     "output_type": "stream",
     "text": [
      "\r",
      "  4%|▍         | 4/100 [00:51<20:29, 12.81s/it]"
     ]
    },
    {
     "name": "stdout",
     "output_type": "stream",
     "text": [
      "Succes! Knowledge\n",
      "Special:Random\n",
      "University of Northampton\n",
      "Public university\n",
      "University\n",
      "Educational institution\n",
      "Institution\n",
      "Social structure\n",
      "Social science\n",
      "Discipline (academia)\n",
      "Branch (academia)\n",
      "Knowledge\n"
     ]
    },
    {
     "name": "stderr",
     "output_type": "stream",
     "text": [
      "\r",
      "  5%|▌         | 5/100 [01:01<19:36, 12.39s/it]"
     ]
    },
    {
     "name": "stdout",
     "output_type": "stream",
     "text": [
      "Succes! Knowledge\n",
      "Special:Random\n",
      "Districts of Peru\n",
      "District\n",
      "Administrative division\n",
      "Country\n",
      "Political geography\n",
      "Politics\n",
      "Decision-making\n",
      "Psychology\n",
      "Science\n",
      "Knowledge\n"
     ]
    },
    {
     "name": "stderr",
     "output_type": "stream",
     "text": [
      "\r",
      "  6%|▌         | 6/100 [01:12<19:01, 12.14s/it]"
     ]
    },
    {
     "name": "stdout",
     "output_type": "stream",
     "text": [
      "Succes! Knowledge\n",
      "Special:Random\n",
      "1927 in music\n"
     ]
    },
    {
     "name": "stderr",
     "output_type": "stream",
     "text": [
      "\r",
      "  7%|▋         | 7/100 [01:15<16:45, 10.81s/it]"
     ]
    },
    {
     "name": "stdout",
     "output_type": "stream",
     "text": [
      "no links!\n",
      "Special:Random\n",
      "Middle-distance running\n",
      "Track and field\n",
      "Sport\n",
      "Competition\n",
      "Territory (animal)\n",
      "Ethology\n",
      "Scientific method\n",
      "OxfordDictionaries.com\n",
      "List of online dictionaries\n",
      "Dictionary\n",
      "Word\n",
      "Linguistics\n",
      "Language\n",
      "Communication\n",
      "Meaning (semiotics)\n",
      "Semiotics\n",
      "Meaning-making\n",
      "Psychology\n",
      "Science\n",
      "Knowledge\n"
     ]
    },
    {
     "name": "stderr",
     "output_type": "stream",
     "text": [
      "\r",
      "  8%|▊         | 8/100 [01:37<18:45, 12.23s/it]"
     ]
    },
    {
     "name": "stdout",
     "output_type": "stream",
     "text": [
      "Succes! Knowledge\n",
      "Special:Random\n",
      "Whey\n",
      "Milk\n",
      "Mammary gland\n",
      "Exocrine gland\n",
      "Gland\n",
      "Blood\n",
      "Body fluid\n",
      "Liquid\n",
      "Compressibility\n",
      "Thermodynamics\n",
      "Physics\n",
      "Romanization of Ancient Greek\n",
      "Transliteration\n",
      "Conversion of scripts\n",
      "Writing system\n",
      "Communication\n",
      "Meaning (semiotics)\n",
      "Semiotics\n",
      "Meaning-making\n",
      "Psychology\n",
      "Science\n",
      "Knowledge\n"
     ]
    },
    {
     "name": "stderr",
     "output_type": "stream",
     "text": [
      "\r",
      "  9%|▉         | 9/100 [02:01<20:26, 13.48s/it]"
     ]
    },
    {
     "name": "stdout",
     "output_type": "stream",
     "text": [
      "Succes! Knowledge\n",
      "Special:Random\n",
      "Communes of France\n",
      "Métropole\n",
      "Communauté urbaine\n"
     ]
    },
    {
     "name": "stderr",
     "output_type": "stream",
     "text": [
      "\r",
      " 10%|█         | 10/100 [02:04<18:43, 12.48s/it]"
     ]
    },
    {
     "name": "stdout",
     "output_type": "stream",
     "text": [
      "Métropole\n",
      "cycle!\n",
      "Special:Random\n",
      "Peanut\n",
      "Taxonomy (biology)\n",
      "Science\n",
      "Knowledge\n"
     ]
    },
    {
     "name": "stderr",
     "output_type": "stream",
     "text": [
      "\r",
      " 11%|█         | 11/100 [02:09<17:31, 11.82s/it]"
     ]
    },
    {
     "name": "stdout",
     "output_type": "stream",
     "text": [
      "Succes! Knowledge\n",
      "Special:Random\n",
      "Germany\n",
      "Geographic coordinate system\n",
      "Coordinate system\n",
      "Geometry\n",
      "Mathematics\n",
      "Quantity\n",
      "Counting\n",
      "Element (mathematics)\n"
     ]
    },
    {
     "name": "stderr",
     "output_type": "stream",
     "text": [
      "\r",
      " 12%|█▏        | 12/100 [02:18<16:58, 11.57s/it]"
     ]
    },
    {
     "name": "stdout",
     "output_type": "stream",
     "text": [
      "Mathematics\n",
      "cycle!\n",
      "Special:Random\n",
      "John White (composer)\n",
      "English people\n",
      "Nation\n",
      "Community\n",
      "Norm (social)\n",
      "Sociology\n",
      "Society\n",
      "Social group\n",
      "Social science\n",
      "Discipline (academia)\n",
      "Branch (academia)\n",
      "Knowledge\n"
     ]
    },
    {
     "name": "stderr",
     "output_type": "stream",
     "text": [
      "\r",
      " 13%|█▎        | 13/100 [02:32<16:58, 11.71s/it]"
     ]
    },
    {
     "name": "stdout",
     "output_type": "stream",
     "text": [
      "Succes! Knowledge\n",
      "Special:Random\n",
      "Districts of Peru\n",
      "District\n",
      "Administrative division\n",
      "Country\n",
      "Political geography\n",
      "Politics\n",
      "Decision-making\n",
      "Psychology\n",
      "Science\n",
      "Knowledge\n"
     ]
    },
    {
     "name": "stderr",
     "output_type": "stream",
     "text": [
      "\r",
      " 14%|█▍        | 14/100 [02:42<16:41, 11.64s/it]"
     ]
    },
    {
     "name": "stdout",
     "output_type": "stream",
     "text": [
      "Succes! Knowledge\n",
      "Special:Random\n",
      "Olivier Award\n",
      "Society of London Theatre\n",
      "West End theatre\n",
      "Theatre\n",
      "Fine art\n",
      "Aesthetics\n"
     ]
    },
    {
     "name": "stderr",
     "output_type": "stream",
     "text": [
      "\r",
      " 15%|█▌        | 15/100 [02:49<16:03, 11.33s/it]"
     ]
    },
    {
     "name": "stdout",
     "output_type": "stream",
     "text": [
      "Succes! Aesthetics\n",
      "Special:Random\n",
      "Types of inhabited localities in Russia\n",
      "Human settlement\n",
      "Geography\n",
      "Science\n",
      "Knowledge\n"
     ]
    },
    {
     "name": "stderr",
     "output_type": "stream",
     "text": [
      "\r",
      " 16%|█▌        | 16/100 [02:55<15:22, 10.99s/it]"
     ]
    },
    {
     "name": "stdout",
     "output_type": "stream",
     "text": [
      "Succes! Knowledge\n",
      "Special:Random\n",
      "United States\n",
      "Geographic coordinate system\n",
      "Coordinate system\n",
      "Geometry\n",
      "Mathematics\n",
      "Quantity\n",
      "Counting\n",
      "Element (mathematics)\n"
     ]
    },
    {
     "name": "stderr",
     "output_type": "stream",
     "text": [
      "\r",
      " 17%|█▋        | 17/100 [03:05<15:05, 10.91s/it]"
     ]
    },
    {
     "name": "stdout",
     "output_type": "stream",
     "text": [
      "Mathematics\n",
      "cycle!\n",
      "Special:Random\n",
      "Magical girl\n",
      "Genre\n",
      "Category of being\n",
      "Ontology\n"
     ]
    },
    {
     "name": "stderr",
     "output_type": "stream",
     "text": [
      "\r",
      " 18%|█▊        | 18/100 [03:10<14:26, 10.56s/it]"
     ]
    },
    {
     "name": "stdout",
     "output_type": "stream",
     "text": [
      "Succes! Ontology\n",
      "Special:Random\n",
      "Heavy metal music\n",
      "Rock music\n",
      "Popular music\n",
      "Music industry\n",
      "Musical composition\n",
      "Song\n",
      "Melody\n",
      "Linearity\n",
      "Line (geometry)\n",
      "Postulate\n",
      "Truth\n"
     ]
    },
    {
     "name": "stderr",
     "output_type": "stream",
     "text": [
      "\r",
      " 19%|█▉        | 19/100 [03:23<14:27, 10.71s/it]"
     ]
    },
    {
     "name": "stdout",
     "output_type": "stream",
     "text": [
      "Succes! Truth\n",
      "Special:Random\n",
      "Home care\n",
      "Home\n",
      "Family\n",
      "Human\n",
      "Extinct\n",
      "Biology\n",
      "Natural science\n",
      "Science\n",
      "Knowledge\n"
     ]
    },
    {
     "name": "stderr",
     "output_type": "stream",
     "text": [
      "\r",
      " 20%|██        | 20/100 [03:34<14:16, 10.70s/it]"
     ]
    },
    {
     "name": "stdout",
     "output_type": "stream",
     "text": [
      "Succes! Knowledge\n",
      "Special:Random\n",
      "Bob Mair\n",
      "Bass (guitar)\n",
      "String instrument\n",
      "String (music)\n",
      "Vibrating string\n",
      "Vibration\n",
      "Oscillation\n",
      "Time\n",
      "Sequence\n",
      "Mathematics\n",
      "Quantity\n",
      "Counting\n",
      "Element (mathematics)\n"
     ]
    },
    {
     "name": "stderr",
     "output_type": "stream",
     "text": [
      "\r",
      " 21%|██        | 21/100 [03:48<14:19, 10.87s/it]"
     ]
    },
    {
     "name": "stdout",
     "output_type": "stream",
     "text": [
      "Mathematics\n",
      "cycle!\n",
      "Special:Random\n",
      "Professional athletes\n",
      "Amateur sports\n",
      "Sport\n",
      "Competition\n",
      "Territory (animal)\n",
      "Ethology\n",
      "Scientific method\n",
      "OxfordDictionaries.com\n",
      "List of online dictionaries\n",
      "Dictionary\n",
      "Word\n",
      "Linguistics\n",
      "Language\n",
      "Communication\n",
      "Meaning (semiotics)\n",
      "Semiotics\n",
      "Meaning-making\n",
      "Psychology\n",
      "Science\n",
      "Knowledge\n"
     ]
    },
    {
     "name": "stderr",
     "output_type": "stream",
     "text": [
      "\r",
      " 22%|██▏       | 22/100 [04:09<14:44, 11.34s/it]"
     ]
    },
    {
     "name": "stdout",
     "output_type": "stream",
     "text": [
      "Succes! Knowledge\n",
      "Special:Random\n",
      "Butterfly\n",
      "Insect\n",
      "Hexapoda\n"
     ]
    },
    {
     "name": "stderr",
     "output_type": "stream",
     "text": [
      "\r",
      " 23%|██▎       | 23/100 [04:13<14:07, 11.01s/it]"
     ]
    },
    {
     "name": "stdout",
     "output_type": "stream",
     "text": [
      "Insect\n",
      "cycle!\n",
      "Special:Random\n",
      "Victoria (Australia)\n",
      "States and territories of Australia\n",
      "Federal territory\n",
      "Federated state\n",
      "Constitution\n",
      "State (polity)\n",
      "Political\n",
      "Decision-making\n",
      "Psychology\n",
      "Science\n",
      "Knowledge\n"
     ]
    },
    {
     "name": "stderr",
     "output_type": "stream",
     "text": [
      "\r",
      " 24%|██▍       | 24/100 [04:25<14:00, 11.06s/it]"
     ]
    },
    {
     "name": "stdout",
     "output_type": "stream",
     "text": [
      "Succes! Knowledge\n",
      "Special:Random\n",
      "KatGames\n",
      "Doing business as\n",
      "Pseudonym\n",
      "Name\n",
      "Term (language)\n",
      "Word\n",
      "Linguistics\n",
      "Language\n",
      "Communication\n",
      "Meaning (semiotics)\n",
      "Semiotics\n",
      "Meaning-making\n",
      "Psychology\n",
      "Science\n",
      "Knowledge\n"
     ]
    },
    {
     "name": "stderr",
     "output_type": "stream",
     "text": [
      "\r",
      " 25%|██▌       | 25/100 [04:41<14:03, 11.24s/it]"
     ]
    },
    {
     "name": "stdout",
     "output_type": "stream",
     "text": [
      "Succes! Knowledge\n",
      "Special:Random\n",
      "Sheryn Regis\n",
      "Philippines\n",
      "Geographic coordinate system\n",
      "Coordinate system\n",
      "Geometry\n",
      "Mathematics\n",
      "Quantity\n",
      "Counting\n",
      "Element (mathematics)\n"
     ]
    },
    {
     "name": "stderr",
     "output_type": "stream",
     "text": [
      "\r",
      " 26%|██▌       | 26/100 [04:51<13:50, 11.22s/it]"
     ]
    },
    {
     "name": "stdout",
     "output_type": "stream",
     "text": [
      "Mathematics\n",
      "cycle!\n",
      "Special:Random\n",
      "Channel Islands (California)\n",
      "Archipelago\n",
      "Island\n",
      "Continent\n",
      "Land\n",
      "Earth\n",
      "Planet\n",
      "Astronomical body\n",
      "Physical body\n",
      "Physics\n",
      "Romanization of Ancient Greek\n",
      "Transliteration\n",
      "Conversion of scripts\n",
      "Writing system\n",
      "Communication\n",
      "Meaning (semiotics)\n",
      "Semiotics\n",
      "Meaning-making\n",
      "Psychology\n",
      "Science\n",
      "Knowledge\n"
     ]
    },
    {
     "name": "stderr",
     "output_type": "stream",
     "text": [
      "\r",
      " 27%|██▋       | 27/100 [05:15<14:13, 11.69s/it]"
     ]
    },
    {
     "name": "stdout",
     "output_type": "stream",
     "text": [
      "Succes! Knowledge\n",
      "Special:Random\n",
      "Procurer\n",
      "Prostitute\n",
      "Sexual activity\n",
      "Human sexuality\n",
      "Human sexual activity\n"
     ]
    },
    {
     "name": "stderr",
     "output_type": "stream",
     "text": [
      "\r",
      " 28%|██▊       | 28/100 [05:23<13:51, 11.55s/it]"
     ]
    },
    {
     "name": "stdout",
     "output_type": "stream",
     "text": [
      "Human sexuality\n",
      "cycle!\n",
      "Special:Random\n",
      "Soccer\n",
      "Team sport\n",
      "Sport\n",
      "Competition\n",
      "Territory (animal)\n",
      "Ethology\n",
      "Scientific method\n",
      "OxfordDictionaries.com\n",
      "List of online dictionaries\n",
      "Dictionary\n",
      "Word\n",
      "Linguistics\n",
      "Language\n",
      "Communication\n",
      "Meaning (semiotics)\n",
      "Semiotics\n",
      "Meaning-making\n",
      "Psychology\n",
      "Science\n",
      "Knowledge\n"
     ]
    },
    {
     "name": "stderr",
     "output_type": "stream",
     "text": [
      "\r",
      " 29%|██▉       | 29/100 [05:44<14:03, 11.88s/it]"
     ]
    },
    {
     "name": "stdout",
     "output_type": "stream",
     "text": [
      "Succes! Knowledge\n",
      "Special:Random\n",
      "Masvingo Province\n",
      "Provinces of Zimbabwe\n",
      "Zimbabwe\n",
      "Geographic coordinate system\n",
      "Coordinate system\n",
      "Geometry\n",
      "Mathematics\n",
      "Quantity\n",
      "Counting\n",
      "Element (mathematics)\n"
     ]
    },
    {
     "name": "stderr",
     "output_type": "stream",
     "text": [
      "\r",
      " 30%|███       | 30/100 [05:56<13:51, 11.87s/it]"
     ]
    },
    {
     "name": "stdout",
     "output_type": "stream",
     "text": [
      "Mathematics\n",
      "cycle!\n",
      "Special:Random\n",
      "Moth\n",
      "Insect\n",
      "Hexapoda\n"
     ]
    },
    {
     "name": "stderr",
     "output_type": "stream",
     "text": [
      "\r",
      " 31%|███       | 31/100 [06:00<13:23, 11.64s/it]"
     ]
    },
    {
     "name": "stdout",
     "output_type": "stream",
     "text": [
      "Insect\n",
      "cycle!\n",
      "Special:Random\n",
      "United States Post Office Department\n",
      "United States Postal Service\n",
      "Independent agencies of the United States government\n",
      "Federal government of the United States\n",
      "Central government\n",
      "Government\n",
      "State (polity)\n",
      "Political\n",
      "Decision-making\n",
      "Psychology\n",
      "Science\n",
      "Knowledge\n"
     ]
    },
    {
     "name": "stderr",
     "output_type": "stream",
     "text": [
      "\r",
      " 32%|███▏      | 32/100 [06:14<13:15, 11.70s/it]"
     ]
    },
    {
     "name": "stdout",
     "output_type": "stream",
     "text": [
      "Succes! Knowledge\n",
      "Special:Random\n",
      "Cricket\n",
      "Bat-and-ball games\n",
      "Playing field\n",
      "Sport\n",
      "Competition\n",
      "Territory (animal)\n",
      "Ethology\n",
      "Scientific method\n",
      "OxfordDictionaries.com\n",
      "List of online dictionaries\n",
      "Dictionary\n",
      "Word\n",
      "Linguistics\n",
      "Language\n",
      "Communication\n",
      "Meaning (semiotics)\n",
      "Semiotics\n",
      "Meaning-making\n",
      "Psychology\n",
      "Science\n",
      "Knowledge\n"
     ]
    },
    {
     "name": "stderr",
     "output_type": "stream",
     "text": [
      "\r",
      " 33%|███▎      | 33/100 [06:35<13:23, 12.00s/it]"
     ]
    },
    {
     "name": "stdout",
     "output_type": "stream",
     "text": [
      "Succes! Knowledge\n",
      "Special:Random\n",
      "Bahamas\n",
      "Geographic coordinate system\n",
      "Coordinate system\n",
      "Geometry\n",
      "Mathematics\n",
      "Quantity\n",
      "Counting\n",
      "Element (mathematics)\n"
     ]
    },
    {
     "name": "stderr",
     "output_type": "stream",
     "text": [
      "\r",
      " 34%|███▍      | 34/100 [06:44<13:04, 11.89s/it]"
     ]
    },
    {
     "name": "stdout",
     "output_type": "stream",
     "text": [
      "Mathematics\n",
      "cycle!\n",
      "Special:Random\n",
      "Gridiron football\n",
      "Football\n",
      "Team sport\n",
      "Sport\n",
      "Competition\n",
      "Territory (animal)\n",
      "Ethology\n",
      "Scientific method\n",
      "OxfordDictionaries.com\n",
      "List of online dictionaries\n",
      "Dictionary\n",
      "Word\n",
      "Linguistics\n",
      "Language\n",
      "Communication\n",
      "Meaning (semiotics)\n",
      "Semiotics\n",
      "Meaning-making\n",
      "Psychology\n",
      "Science\n",
      "Knowledge\n"
     ]
    },
    {
     "name": "stderr",
     "output_type": "stream",
     "text": [
      "\r",
      " 35%|███▌      | 35/100 [07:05<13:10, 12.16s/it]"
     ]
    },
    {
     "name": "stdout",
     "output_type": "stream",
     "text": [
      "Succes! Knowledge\n",
      "Special:Random\n",
      "Kushk-e Qazi Rural District\n",
      "Rural Districts of Iran\n",
      "Administrative divisions of Iran\n",
      "Country subdivision\n",
      "Country\n",
      "Political geography\n",
      "Politics\n",
      "Decision-making\n",
      "Psychology\n",
      "Science\n",
      "Knowledge\n"
     ]
    },
    {
     "name": "stderr",
     "output_type": "stream",
     "text": [
      "\r",
      " 36%|███▌      | 36/100 [07:17<12:57, 12.14s/it]"
     ]
    },
    {
     "name": "stdout",
     "output_type": "stream",
     "text": [
      "Succes! Knowledge\n",
      "Special:Random\n",
      "Moth\n",
      "Insect\n",
      "Hexapoda\n"
     ]
    },
    {
     "name": "stderr",
     "output_type": "stream",
     "text": [
      "\r",
      " 37%|███▋      | 37/100 [07:21<12:30, 11.92s/it]"
     ]
    },
    {
     "name": "stdout",
     "output_type": "stream",
     "text": [
      "Insect\n",
      "cycle!\n",
      "Special:Random\n",
      "National Register of Historic Places\n",
      "United States federal government\n",
      "Central government\n",
      "Government\n",
      "State (polity)\n",
      "Political\n",
      "Decision-making\n",
      "Psychology\n",
      "Science\n",
      "Knowledge\n"
     ]
    },
    {
     "name": "stderr",
     "output_type": "stream",
     "text": [
      "\r",
      " 38%|███▊      | 38/100 [07:32<12:17, 11.90s/it]"
     ]
    },
    {
     "name": "stdout",
     "output_type": "stream",
     "text": [
      "Succes! Knowledge\n",
      "Special:Random\n",
      "Country music\n",
      "Southern United States\n",
      "Dixie\n"
     ]
    },
    {
     "name": "stderr",
     "output_type": "stream",
     "text": [
      "\r",
      " 39%|███▉      | 39/100 [07:37<11:54, 11.72s/it]"
     ]
    },
    {
     "name": "stdout",
     "output_type": "stream",
     "text": [
      "Southern United States\n",
      "cycle!\n",
      "Special:Random\n",
      "United States\n",
      "Geographic coordinate system\n",
      "Coordinate system\n",
      "Geometry\n",
      "Mathematics\n",
      "Quantity\n",
      "Counting\n",
      "Element (mathematics)\n"
     ]
    },
    {
     "name": "stderr",
     "output_type": "stream",
     "text": [
      "\r",
      " 40%|████      | 40/100 [07:46<11:39, 11.65s/it]"
     ]
    },
    {
     "name": "stdout",
     "output_type": "stream",
     "text": [
      "Mathematics\n",
      "cycle!\n",
      "Special:Random\n",
      "Companion of the Order of Australia\n",
      "Order (honour)\n",
      "Honour\n",
      "Family\n",
      "Human\n",
      "Extinct\n",
      "Biology\n",
      "Natural science\n",
      "Science\n",
      "Knowledge\n"
     ]
    },
    {
     "name": "stderr",
     "output_type": "stream",
     "text": [
      "\r",
      " 41%|████      | 41/100 [07:58<11:27, 11.66s/it]"
     ]
    },
    {
     "name": "stdout",
     "output_type": "stream",
     "text": [
      "Succes! Knowledge\n",
      "Special:Random\n",
      "Sri Lanka\n",
      "Geographic coordinate system\n",
      "Coordinate system\n",
      "Geometry\n",
      "Mathematics\n",
      "Quantity\n",
      "Counting\n",
      "Element (mathematics)\n"
     ]
    },
    {
     "name": "stderr",
     "output_type": "stream",
     "text": [
      "\r",
      " 42%|████▏     | 42/100 [08:07<11:12, 11.60s/it]"
     ]
    },
    {
     "name": "stdout",
     "output_type": "stream",
     "text": [
      "Mathematics\n",
      "cycle!\n",
      "Special:Random\n",
      "GTV (Australia)\n",
      "Television station\n",
      "Amateur television\n",
      "Broadcast quality\n",
      "Videotape\n",
      "Magnetic tape\n",
      "Magnetic recording\n",
      "Data\n",
      "Set (mathematics)\n",
      "Mathematics\n",
      "Quantity\n",
      "Counting\n",
      "Element (mathematics)\n"
     ]
    },
    {
     "name": "stderr",
     "output_type": "stream",
     "text": [
      "\r",
      " 43%|████▎     | 43/100 [08:20<11:03, 11.65s/it]"
     ]
    },
    {
     "name": "stdout",
     "output_type": "stream",
     "text": [
      "Mathematics\n",
      "cycle!\n",
      "Special:Random\n",
      "Hilal-i-Pakistan\n",
      "Independence\n",
      "Nation\n",
      "Community\n",
      "Norm (social)\n",
      "Sociology\n",
      "Society\n",
      "Social group\n",
      "Social science\n",
      "Discipline (academia)\n",
      "Branch (academia)\n",
      "Knowledge\n"
     ]
    },
    {
     "name": "stderr",
     "output_type": "stream",
     "text": [
      "\r",
      " 44%|████▍     | 44/100 [08:32<10:52, 11.66s/it]"
     ]
    },
    {
     "name": "stdout",
     "output_type": "stream",
     "text": [
      "Succes! Knowledge\n",
      "Special:Random\n",
      "Cupressaceae\n",
      "Conifer\n",
      "Cordaitales\n",
      "Cordaitaceae\n",
      "Family (biology)\n",
      "Biological classification\n",
      "Science\n",
      "Knowledge\n"
     ]
    },
    {
     "name": "stderr",
     "output_type": "stream",
     "text": [
      "\r",
      " 45%|████▌     | 45/100 [08:41<10:37, 11.60s/it]"
     ]
    },
    {
     "name": "stdout",
     "output_type": "stream",
     "text": [
      "Succes! Knowledge\n",
      "Special:Random\n",
      "National Football League\n",
      "American football\n",
      "Offense (sports)\n",
      "Goal (sport)\n",
      "Sport\n",
      "Competition\n",
      "Territory (animal)\n",
      "Ethology\n",
      "Scientific method\n",
      "OxfordDictionaries.com\n",
      "List of online dictionaries\n",
      "Dictionary\n",
      "Word\n",
      "Linguistics\n",
      "Language\n",
      "Communication\n",
      "Meaning (semiotics)\n",
      "Semiotics\n",
      "Meaning-making\n",
      "Psychology\n",
      "Science\n",
      "Knowledge\n"
     ]
    },
    {
     "name": "stderr",
     "output_type": "stream",
     "text": [
      "\r",
      " 46%|████▌     | 46/100 [09:04<10:39, 11.85s/it]"
     ]
    },
    {
     "name": "stdout",
     "output_type": "stream",
     "text": [
      "Succes! Knowledge\n",
      "Special:Random\n",
      "Canadians\n",
      "Canada\n",
      "Geographic coordinate system\n",
      "Coordinate system\n",
      "Geometry\n",
      "Mathematics\n",
      "Quantity\n",
      "Counting\n",
      "Element (mathematics)\n"
     ]
    },
    {
     "name": "stderr",
     "output_type": "stream",
     "text": [
      "\r",
      " 47%|████▋     | 47/100 [09:14<10:25, 11.80s/it]"
     ]
    },
    {
     "name": "stdout",
     "output_type": "stream",
     "text": [
      "Mathematics\n",
      "cycle!\n",
      "Special:Random\n",
      "India\n",
      "South Asia\n",
      "South\n",
      "Cardinal direction\n",
      "North\n",
      "Compass points\n",
      "Compass\n",
      "Navigation\n",
      "Term of art\n",
      "Language\n",
      "Communication\n",
      "Meaning (semiotics)\n",
      "Semiotics\n",
      "Meaning-making\n",
      "Psychology\n",
      "Science\n",
      "Knowledge\n"
     ]
    },
    {
     "name": "stderr",
     "output_type": "stream",
     "text": [
      "\r",
      " 48%|████▊     | 48/100 [09:33<10:20, 11.94s/it]"
     ]
    },
    {
     "name": "stdout",
     "output_type": "stream",
     "text": [
      "Succes! Knowledge\n",
      "Special:Random\n",
      "Gymnast\n",
      "Strength training\n",
      "Physical exercise\n",
      "Physical fitness\n",
      "Health\n",
      "World Health Organization\n",
      "List of specialized agencies of the United Nations\n",
      "United Nations\n",
      "Intergovernmental organization\n",
      "Organization\n",
      "Entity\n",
      "Existence\n"
     ]
    },
    {
     "name": "stderr",
     "output_type": "stream",
     "text": [
      "\r",
      " 49%|████▉     | 49/100 [09:46<10:10, 11.97s/it]"
     ]
    },
    {
     "name": "stdout",
     "output_type": "stream",
     "text": [
      "Succes! Existence\n",
      "Special:Random\n",
      "Albanians\n",
      "Islam\n",
      "Abrahamic religions\n",
      "Semitic people\n",
      "Semitic languages\n",
      "Afroasiatic languages\n",
      "Language family\n",
      "Language\n",
      "Communication\n",
      "Meaning (semiotics)\n",
      "Semiotics\n",
      "Meaning-making\n",
      "Psychology\n",
      "Science\n",
      "Knowledge\n"
     ]
    },
    {
     "name": "stderr",
     "output_type": "stream",
     "text": [
      "\r",
      " 50%|█████     | 50/100 [10:04<10:04, 12.09s/it]"
     ]
    },
    {
     "name": "stdout",
     "output_type": "stream",
     "text": [
      "Succes! Knowledge\n",
      "Special:Random\n",
      "Khvosh Rud Rural District\n",
      "Rural Districts of Iran\n",
      "Administrative divisions of Iran\n",
      "Country subdivision\n",
      "Country\n",
      "Political geography\n",
      "Politics\n",
      "Decision-making\n",
      "Psychology\n",
      "Science\n",
      "Knowledge\n"
     ]
    },
    {
     "name": "stderr",
     "output_type": "stream",
     "text": [
      "\r",
      " 51%|█████     | 51/100 [10:16<09:52, 12.09s/it]"
     ]
    },
    {
     "name": "stdout",
     "output_type": "stream",
     "text": [
      "Succes! Knowledge\n",
      "Special:Random\n",
      "Japan Airlines\n",
      "Flag carrier\n",
      "Transport\n",
      "Cargo\n",
      "Economics\n",
      "Social science\n",
      "Discipline (academia)\n",
      "Branch (academia)\n",
      "Knowledge\n"
     ]
    },
    {
     "name": "stderr",
     "output_type": "stream",
     "text": [
      "\r",
      " 52%|█████▏    | 52/100 [10:27<09:39, 12.07s/it]"
     ]
    },
    {
     "name": "stdout",
     "output_type": "stream",
     "text": [
      "Succes! Knowledge\n",
      "Special:Random\n",
      "Bulgaria\n",
      "Geographic coordinate system\n",
      "Coordinate system\n",
      "Geometry\n",
      "Mathematics\n",
      "Quantity\n",
      "Counting\n",
      "Element (mathematics)\n"
     ]
    },
    {
     "name": "stderr",
     "output_type": "stream",
     "text": [
      "\r",
      " 53%|█████▎    | 53/100 [10:36<09:24, 12.01s/it]"
     ]
    },
    {
     "name": "stdout",
     "output_type": "stream",
     "text": [
      "Mathematics\n",
      "cycle!\n",
      "Special:Random\n",
      "Football (soccer)\n",
      "Team sport\n",
      "Sport\n",
      "Competition\n",
      "Territory (animal)\n",
      "Ethology\n",
      "Scientific method\n",
      "OxfordDictionaries.com\n",
      "List of online dictionaries\n",
      "Dictionary\n",
      "Word\n",
      "Linguistics\n",
      "Language\n",
      "Communication\n",
      "Meaning (semiotics)\n",
      "Semiotics\n",
      "Meaning-making\n",
      "Psychology\n",
      "Science\n",
      "Knowledge\n"
     ]
    },
    {
     "name": "stderr",
     "output_type": "stream",
     "text": [
      "\r",
      " 54%|█████▍    | 54/100 [10:56<09:19, 12.17s/it]"
     ]
    },
    {
     "name": "stdout",
     "output_type": "stream",
     "text": [
      "Succes! Knowledge\n",
      "Special:Random\n",
      "Dynamical system\n",
      "Mathematics\n",
      "Quantity\n",
      "Counting\n",
      "Element (mathematics)\n"
     ]
    },
    {
     "name": "stderr",
     "output_type": "stream",
     "text": [
      "\r",
      " 55%|█████▌    | 55/100 [11:02<09:01, 12.04s/it]"
     ]
    },
    {
     "name": "stdout",
     "output_type": "stream",
     "text": [
      "Mathematics\n",
      "cycle!\n",
      "Special:Random\n",
      "Germany\n",
      "Geographic coordinate system\n",
      "Coordinate system\n",
      "Geometry\n",
      "Mathematics\n",
      "Quantity\n",
      "Counting\n",
      "Element (mathematics)\n"
     ]
    },
    {
     "name": "stderr",
     "output_type": "stream",
     "text": [
      "\r",
      " 56%|█████▌    | 56/100 [11:10<08:47, 11.98s/it]"
     ]
    },
    {
     "name": "stdout",
     "output_type": "stream",
     "text": [
      "Mathematics\n",
      "cycle!\n",
      "Special:Random\n",
      "Israel\n",
      "Geographic coordinate system\n",
      "Coordinate system\n",
      "Geometry\n",
      "Mathematics\n",
      "Quantity\n",
      "Counting\n",
      "Element (mathematics)\n"
     ]
    },
    {
     "name": "stderr",
     "output_type": "stream",
     "text": [
      "\r",
      " 57%|█████▋    | 57/100 [11:19<08:32, 11.93s/it]"
     ]
    },
    {
     "name": "stdout",
     "output_type": "stream",
     "text": [
      "Mathematics\n",
      "cycle!\n",
      "Special:Random\n",
      "Irish people\n",
      "Irish Travellers\n",
      "Itinerant groups in Europe\n",
      "Gypsy (term)\n",
      "Romani people\n"
     ]
    },
    {
     "name": "stderr",
     "output_type": "stream",
     "text": [
      "\r",
      " 58%|█████▊    | 58/100 [11:26<08:17, 11.84s/it]"
     ]
    },
    {
     "name": "stdout",
     "output_type": "stream",
     "text": [
      "Itinerant groups in Europe\n",
      "cycle!\n",
      "Special:Random\n",
      "France\n",
      "Europe\n",
      "Continent\n",
      "Land\n",
      "Earth\n",
      "Planet\n",
      "Astronomical body\n",
      "Physical body\n",
      "Physics\n",
      "Romanization of Ancient Greek\n",
      "Transliteration\n",
      "Conversion of scripts\n",
      "Writing system\n",
      "Communication\n",
      "Meaning (semiotics)\n",
      "Semiotics\n",
      "Meaning-making\n",
      "Psychology\n",
      "Science\n",
      "Knowledge\n"
     ]
    },
    {
     "name": "stderr",
     "output_type": "stream",
     "text": [
      "\r",
      " 59%|█████▉    | 59/100 [11:48<08:12, 12.01s/it]"
     ]
    },
    {
     "name": "stdout",
     "output_type": "stream",
     "text": [
      "Succes! Knowledge\n",
      "Special:Random\n",
      "Australian rules football\n",
      "Contact sport\n",
      "Sport\n",
      "Competition\n",
      "Territory (animal)\n",
      "Ethology\n",
      "Scientific method\n",
      "OxfordDictionaries.com\n",
      "List of online dictionaries\n",
      "Dictionary\n",
      "Word\n",
      "Linguistics\n",
      "Language\n",
      "Communication\n",
      "Meaning (semiotics)\n",
      "Semiotics\n",
      "Meaning-making\n",
      "Psychology\n",
      "Science\n",
      "Knowledge\n"
     ]
    },
    {
     "name": "stderr",
     "output_type": "stream",
     "text": [
      "\r",
      " 60%|██████    | 60/100 [12:09<08:06, 12.16s/it]"
     ]
    },
    {
     "name": "stdout",
     "output_type": "stream",
     "text": [
      "Succes! Knowledge\n",
      "Special:Random\n",
      "Reproductive physiology\n",
      "Subspecialty\n",
      "Specialty (medicine)\n",
      "Medicine\n",
      "Science\n",
      "Knowledge\n"
     ]
    },
    {
     "name": "stderr",
     "output_type": "stream",
     "text": [
      "\r",
      " 61%|██████    | 61/100 [12:17<07:51, 12.08s/it]"
     ]
    },
    {
     "name": "stdout",
     "output_type": "stream",
     "text": [
      "Succes! Knowledge\n",
      "Special:Random\n",
      "United States Army\n",
      "United States Department of Defense\n",
      "United States federal executive departments\n",
      "Executive branch of the United States government\n",
      "Central government\n",
      "Government\n",
      "State (polity)\n",
      "Political\n",
      "Decision-making\n",
      "Psychology\n",
      "Science\n",
      "Knowledge\n"
     ]
    },
    {
     "name": "stderr",
     "output_type": "stream",
     "text": [
      "\r",
      " 62%|██████▏   | 62/100 [12:30<07:39, 12.10s/it]"
     ]
    },
    {
     "name": "stdout",
     "output_type": "stream",
     "text": [
      "Succes! Knowledge\n",
      "Special:Random\n",
      "Historian\n",
      "Recorded history\n",
      "History\n",
      "George Santayana\n",
      "Man of letters\n",
      "Critical thinking\n",
      "Objectivity (philosophy)\n"
     ]
    },
    {
     "name": "stderr",
     "output_type": "stream",
     "text": [
      "\r",
      " 63%|██████▎   | 63/100 [12:38<07:25, 12.04s/it]"
     ]
    },
    {
     "name": "stdout",
     "output_type": "stream",
     "text": [
      "Succes! Objectivity (philosophy)\n",
      "Special:Random\n",
      "Osijek-Baranja County\n",
      "Croatian language\n",
      "Standard language\n",
      "Variety (linguistics)\n",
      "Sociolinguistics\n",
      "Society\n",
      "Social group\n",
      "Social science\n",
      "Discipline (academia)\n",
      "Branch (academia)\n",
      "Knowledge\n"
     ]
    },
    {
     "name": "stderr",
     "output_type": "stream",
     "text": [
      "\r",
      " 64%|██████▍   | 64/100 [12:50<07:13, 12.04s/it]"
     ]
    },
    {
     "name": "stdout",
     "output_type": "stream",
     "text": [
      "Succes! Knowledge\n",
      "Special:Random\n"
     ]
    },
    {
     "name": "stderr",
     "output_type": "stream",
     "text": [
      "\r",
      " 65%|██████▌   | 65/100 [12:50<06:54, 11.86s/it]"
     ]
    },
    {
     "name": "stdout",
     "output_type": "stream",
     "text": [
      "no links!\n",
      "Special:Random\n",
      "Beetle\n",
      "Insect\n",
      "Hexapoda\n"
     ]
    },
    {
     "name": "stderr",
     "output_type": "stream",
     "text": [
      "\r",
      " 66%|██████▌   | 66/100 [12:55<06:39, 11.75s/it]"
     ]
    },
    {
     "name": "stdout",
     "output_type": "stream",
     "text": [
      "Insect\n",
      "cycle!\n",
      "Special:Random\n"
     ]
    },
    {
     "name": "stderr",
     "output_type": "stream",
     "text": [
      "\r",
      " 67%|██████▋   | 67/100 [12:55<06:22, 11.58s/it]"
     ]
    },
    {
     "name": "stdout",
     "output_type": "stream",
     "text": [
      "no links!\n",
      "Special:Random\n",
      "Barognosis\n",
      "Skill\n",
      "Departmentalization\n",
      "Division of labour\n",
      "System\n",
      "Latin\n",
      "Classical language\n",
      "Language\n",
      "Communication\n",
      "Meaning (semiotics)\n",
      "Semiotics\n",
      "Meaning-making\n",
      "Psychology\n",
      "Science\n",
      "Knowledge\n"
     ]
    },
    {
     "name": "stderr",
     "output_type": "stream",
     "text": [
      "\r",
      " 68%|██████▊   | 68/100 [13:12<06:12, 11.65s/it]"
     ]
    },
    {
     "name": "stdout",
     "output_type": "stream",
     "text": [
      "Succes! Knowledge\n",
      "Special:Random\n",
      "Michigan Senate\n",
      "Upper house\n",
      "Senate\n",
      "Deliberative assembly\n",
      "Parliamentary procedure\n",
      "Procedural law\n",
      "Court\n",
      "Tribunal\n",
      "Institution\n",
      "Social structure\n",
      "Social science\n",
      "Discipline (academia)\n",
      "Branch (academia)\n",
      "Knowledge\n"
     ]
    },
    {
     "name": "stderr",
     "output_type": "stream",
     "text": [
      "\r",
      " 69%|██████▉   | 69/100 [13:26<06:02, 11.69s/it]"
     ]
    },
    {
     "name": "stdout",
     "output_type": "stream",
     "text": [
      "Succes! Knowledge\n",
      "Special:Random\n",
      "Colombia\n",
      "Geographic coordinate system\n",
      "Coordinate system\n",
      "Geometry\n",
      "Mathematics\n",
      "Quantity\n",
      "Counting\n",
      "Element (mathematics)\n"
     ]
    },
    {
     "name": "stderr",
     "output_type": "stream",
     "text": [
      "\r",
      " 70%|███████   | 70/100 [13:35<05:49, 11.65s/it]"
     ]
    },
    {
     "name": "stdout",
     "output_type": "stream",
     "text": [
      "Mathematics\n",
      "cycle!\n",
      "Special:Random\n",
      "Prison security categories in the United Kingdom\n",
      "United Kingdom\n",
      "Europe\n",
      "Continent\n",
      "Land\n",
      "Earth\n",
      "Planet\n",
      "Astronomical body\n",
      "Physical body\n",
      "Physics\n",
      "Romanization of Ancient Greek\n",
      "Transliteration\n",
      "Conversion of scripts\n",
      "Writing system\n",
      "Communication\n",
      "Meaning (semiotics)\n",
      "Semiotics\n",
      "Meaning-making\n",
      "Psychology\n",
      "Science\n",
      "Knowledge\n"
     ]
    },
    {
     "name": "stderr",
     "output_type": "stream",
     "text": [
      "\r",
      " 71%|███████   | 71/100 [14:00<05:43, 11.84s/it]"
     ]
    },
    {
     "name": "stdout",
     "output_type": "stream",
     "text": [
      "Succes! Knowledge\n",
      "Special:Random\n",
      "NŠ Drava Ptuj\n",
      "Slovenia\n",
      "Geographic coordinate system\n",
      "Coordinate system\n",
      "Geometry\n",
      "Mathematics\n",
      "Quantity\n",
      "Counting\n",
      "Element (mathematics)\n"
     ]
    },
    {
     "name": "stderr",
     "output_type": "stream",
     "text": [
      "\r",
      " 72%|███████▏  | 72/100 [14:10<05:30, 11.81s/it]"
     ]
    },
    {
     "name": "stdout",
     "output_type": "stream",
     "text": [
      "Mathematics\n",
      "cycle!\n",
      "Special:Random\n",
      "American football\n",
      "Offense (sports)\n",
      "Goal (sport)\n",
      "Sport\n",
      "Competition\n",
      "Territory (animal)\n",
      "Ethology\n",
      "Scientific method\n",
      "OxfordDictionaries.com\n",
      "List of online dictionaries\n",
      "Dictionary\n",
      "Word\n",
      "Linguistics\n",
      "Language\n",
      "Communication\n",
      "Meaning (semiotics)\n",
      "Semiotics\n",
      "Meaning-making\n",
      "Psychology\n",
      "Science\n",
      "Knowledge\n"
     ]
    },
    {
     "name": "stderr",
     "output_type": "stream",
     "text": [
      "\r",
      " 73%|███████▎  | 73/100 [14:31<05:22, 11.94s/it]"
     ]
    },
    {
     "name": "stdout",
     "output_type": "stream",
     "text": [
      "Succes! Knowledge\n",
      "Special:Random\n",
      "Nova Scotia\n",
      "Canada\n",
      "Geographic coordinate system\n",
      "Coordinate system\n",
      "Geometry\n",
      "Mathematics\n",
      "Quantity\n",
      "Counting\n",
      "Element (mathematics)\n"
     ]
    },
    {
     "name": "stderr",
     "output_type": "stream",
     "text": [
      "\r",
      " 74%|███████▍  | 74/100 [14:41<05:09, 11.91s/it]"
     ]
    },
    {
     "name": "stdout",
     "output_type": "stream",
     "text": [
      "Mathematics\n",
      "cycle!\n",
      "Special:Random\n",
      "Occitan language\n",
      "French language\n",
      "Romance languages\n",
      "Vulgar Latin\n",
      "Sociolect\n",
      "Sociolinguistics\n",
      "Society\n",
      "Social group\n",
      "Social science\n",
      "Discipline (academia)\n",
      "Branch (academia)\n",
      "Knowledge\n"
     ]
    },
    {
     "name": "stderr",
     "output_type": "stream",
     "text": [
      "\r",
      " 75%|███████▌  | 75/100 [14:56<04:58, 11.95s/it]"
     ]
    },
    {
     "name": "stdout",
     "output_type": "stream",
     "text": [
      "Succes! Knowledge\n",
      "Special:Random\n",
      "Audiobook\n",
      "Abridgement\n",
      "Tone (literature)\n",
      "Literature\n",
      "Writing\n",
      "Communication\n",
      "Meaning (semiotics)\n",
      "Semiotics\n",
      "Meaning-making\n",
      "Psychology\n",
      "Science\n",
      "Knowledge\n"
     ]
    },
    {
     "name": "stderr",
     "output_type": "stream",
     "text": [
      "\r",
      " 76%|███████▌  | 76/100 [15:08<04:46, 11.95s/it]"
     ]
    },
    {
     "name": "stdout",
     "output_type": "stream",
     "text": [
      "Succes! Knowledge\n",
      "Special:Random\n",
      "County (United States)\n",
      "Administrative division\n",
      "Country\n",
      "Political geography\n",
      "Politics\n",
      "Decision-making\n",
      "Psychology\n",
      "Science\n",
      "Knowledge\n"
     ]
    },
    {
     "name": "stderr",
     "output_type": "stream",
     "text": [
      "\r",
      " 77%|███████▋  | 77/100 [15:18<04:34, 11.92s/it]"
     ]
    },
    {
     "name": "stdout",
     "output_type": "stream",
     "text": [
      "Succes! Knowledge\n",
      "Special:Random\n",
      "Overture\n",
      "Music\n",
      "Culture\n",
      "Social behavior\n",
      "Behavior\n",
      "Action (philosophy)\n",
      "Philosophy\n"
     ]
    },
    {
     "name": "stderr",
     "output_type": "stream",
     "text": [
      "\r",
      " 78%|███████▊  | 78/100 [15:25<04:21, 11.86s/it]"
     ]
    },
    {
     "name": "stdout",
     "output_type": "stream",
     "text": [
      "Succes! Philosophy\n",
      "Special:Random\n",
      "Perth, Western Australia\n",
      "List of Australian capital cities\n",
      "Australia\n",
      "Geographic coordinate system\n",
      "Coordinate system\n",
      "Geometry\n",
      "Mathematics\n",
      "Quantity\n",
      "Counting\n",
      "Element (mathematics)\n"
     ]
    },
    {
     "name": "stderr",
     "output_type": "stream",
     "text": [
      "\r",
      " 79%|███████▉  | 79/100 [15:37<04:09, 11.87s/it]"
     ]
    },
    {
     "name": "stdout",
     "output_type": "stream",
     "text": [
      "Mathematics\n",
      "cycle!\n",
      "Special:Random\n",
      "Netherlands\n",
      "Europe\n",
      "Continent\n",
      "Land\n",
      "Earth\n",
      "Planet\n",
      "Astronomical body\n",
      "Physical body\n",
      "Physics\n",
      "Romanization of Ancient Greek\n",
      "Transliteration\n",
      "Conversion of scripts\n",
      "Writing system\n",
      "Communication\n",
      "Meaning (semiotics)\n",
      "Semiotics\n",
      "Meaning-making\n",
      "Psychology\n",
      "Science\n",
      "Knowledge\n"
     ]
    },
    {
     "name": "stderr",
     "output_type": "stream",
     "text": [
      "\r",
      " 80%|████████  | 80/100 [16:00<04:00, 12.01s/it]"
     ]
    },
    {
     "name": "stdout",
     "output_type": "stream",
     "text": [
      "Succes! Knowledge\n",
      "Special:Random\n",
      "Estonia\n",
      "Europe\n",
      "Continent\n",
      "Land\n",
      "Earth\n",
      "Planet\n",
      "Astronomical body\n",
      "Physical body\n",
      "Physics\n",
      "Romanization of Ancient Greek\n",
      "Transliteration\n",
      "Conversion of scripts\n",
      "Writing system\n",
      "Communication\n",
      "Meaning (semiotics)\n",
      "Semiotics\n",
      "Meaning-making\n",
      "Psychology\n",
      "Science\n",
      "Knowledge\n"
     ]
    },
    {
     "name": "stderr",
     "output_type": "stream",
     "text": [
      "\r",
      " 81%|████████  | 81/100 [16:23<03:50, 12.15s/it]"
     ]
    },
    {
     "name": "stdout",
     "output_type": "stream",
     "text": [
      "Succes! Knowledge\n",
      "Special:Random\n",
      "Enid Blyton\n",
      "List of children's literature authors\n",
      "Children's literature\n",
      "Oral tradition\n",
      "Oral history\n",
      "Interview\n",
      "Conversation\n",
      "Communication\n",
      "Meaning (semiotics)\n",
      "Semiotics\n",
      "Meaning-making\n",
      "Psychology\n",
      "Science\n",
      "Knowledge\n"
     ]
    },
    {
     "name": "stderr",
     "output_type": "stream",
     "text": [
      "\r",
      " 82%|████████▏ | 82/100 [16:39<03:39, 12.19s/it]"
     ]
    },
    {
     "name": "stdout",
     "output_type": "stream",
     "text": [
      "Succes! Knowledge\n",
      "Special:Random\n",
      "Owatonna, Minnesota\n",
      "Steele County, Minnesota\n",
      "County (United States)\n",
      "Administrative division\n",
      "Country\n",
      "Political geography\n",
      "Politics\n",
      "Decision-making\n",
      "Psychology\n",
      "Science\n",
      "Knowledge\n"
     ]
    },
    {
     "name": "stderr",
     "output_type": "stream",
     "text": [
      "\r",
      " 83%|████████▎ | 83/100 [16:52<03:27, 12.20s/it]"
     ]
    },
    {
     "name": "stdout",
     "output_type": "stream",
     "text": [
      "Succes! Knowledge\n",
      "Special:Random\n",
      "American Broadcasting Company\n",
      "Commercial broadcasting\n",
      "Broadcasting\n",
      "Distribution (business)\n",
      "Marketing mix\n",
      "Marketing\n",
      "Management\n",
      "Administration (disambiguation)\n"
     ]
    },
    {
     "name": "stderr",
     "output_type": "stream",
     "text": [
      "\r",
      " 84%|████████▍ | 84/100 [17:01<03:14, 12.16s/it]"
     ]
    },
    {
     "name": "stdout",
     "output_type": "stream",
     "text": [
      "no links!\n",
      "Special:Random\n",
      "FT Alphaville\n",
      "Financial market\n",
      "Market (economics)\n",
      "System\n",
      "Latin\n",
      "Classical language\n",
      "Language\n",
      "Communication\n",
      "Meaning (semiotics)\n",
      "Semiotics\n",
      "Meaning-making\n",
      "Psychology\n",
      "Science\n",
      "Knowledge\n"
     ]
    },
    {
     "name": "stderr",
     "output_type": "stream",
     "text": [
      "\r",
      " 85%|████████▌ | 85/100 [17:15<03:02, 12.19s/it]"
     ]
    },
    {
     "name": "stdout",
     "output_type": "stream",
     "text": [
      "Succes! Knowledge\n",
      "Special:Random\n",
      "Operational transconductance amplifier\n",
      "Amplifier\n",
      "Power (physics)\n",
      "Work (physics)\n",
      "Force (physics)\n",
      "Physics\n",
      "Romanization of Ancient Greek\n",
      "Transliteration\n",
      "Conversion of scripts\n",
      "Writing system\n",
      "Communication\n",
      "Meaning (semiotics)\n",
      "Semiotics\n",
      "Meaning-making\n",
      "Psychology\n",
      "Science\n",
      "Knowledge\n"
     ]
    },
    {
     "name": "stderr",
     "output_type": "stream",
     "text": [
      "\r",
      " 86%|████████▌ | 86/100 [17:34<02:51, 12.26s/it]"
     ]
    },
    {
     "name": "stdout",
     "output_type": "stream",
     "text": [
      "Succes! Knowledge\n",
      "Special:Random\n",
      "Companions of the Order of Australia\n",
      "Order of Australia\n",
      "Order (honour)\n",
      "Honour\n",
      "Family\n",
      "Human\n",
      "Extinct\n",
      "Biology\n",
      "Natural science\n",
      "Science\n",
      "Knowledge\n"
     ]
    },
    {
     "name": "stderr",
     "output_type": "stream",
     "text": [
      "\r",
      " 87%|████████▋ | 87/100 [17:48<02:39, 12.28s/it]"
     ]
    },
    {
     "name": "stdout",
     "output_type": "stream",
     "text": [
      "Succes! Knowledge\n",
      "Special:Random\n",
      "Poles\n",
      "Nation\n",
      "Community\n",
      "Norm (social)\n",
      "Sociology\n",
      "Society\n",
      "Social group\n",
      "Social science\n",
      "Discipline (academia)\n",
      "Branch (academia)\n",
      "Knowledge\n"
     ]
    },
    {
     "name": "stderr",
     "output_type": "stream",
     "text": [
      "\r",
      " 88%|████████▊ | 88/100 [18:01<02:27, 12.29s/it]"
     ]
    },
    {
     "name": "stdout",
     "output_type": "stream",
     "text": [
      "Succes! Knowledge\n",
      "Special:Random\n",
      "Puerto Rico\n",
      "Geographic coordinate system\n",
      "Coordinate system\n",
      "Geometry\n",
      "Mathematics\n",
      "Quantity\n",
      "Counting\n",
      "Element (mathematics)\n"
     ]
    },
    {
     "name": "stderr",
     "output_type": "stream",
     "text": [
      "\r",
      " 89%|████████▉ | 89/100 [18:11<02:14, 12.27s/it]"
     ]
    },
    {
     "name": "stdout",
     "output_type": "stream",
     "text": [
      "Mathematics\n",
      "cycle!\n",
      "Special:Random\n",
      "Governor of California\n",
      "Head of government\n",
      "Sovereign state\n",
      "International law\n",
      "State (polity)\n",
      "Political\n",
      "Decision-making\n",
      "Psychology\n",
      "Science\n",
      "Knowledge\n"
     ]
    },
    {
     "name": "stderr",
     "output_type": "stream",
     "text": [
      "\r",
      " 90%|█████████ | 90/100 [18:24<02:02, 12.27s/it]"
     ]
    },
    {
     "name": "stdout",
     "output_type": "stream",
     "text": [
      "Succes! Knowledge\n",
      "Special:Random\n",
      "Peer-reviewed\n",
      "Field of study\n",
      "Branch (academia)\n",
      "Knowledge\n"
     ]
    },
    {
     "name": "stderr",
     "output_type": "stream",
     "text": [
      "\r",
      " 91%|█████████ | 91/100 [18:29<01:49, 12.19s/it]"
     ]
    },
    {
     "name": "stdout",
     "output_type": "stream",
     "text": [
      "Succes! Knowledge\n",
      "Special:Random\n",
      "Philatelist\n",
      "Postage stamp\n",
      "Mail\n",
      "Postcard\n",
      "Card stock\n",
      "Paperboard\n",
      "Paper\n",
      "Fibre\n",
      "Natural fiber\n"
     ]
    },
    {
     "name": "stderr",
     "output_type": "stream",
     "text": [
      "\r",
      " 92%|█████████▏| 92/100 [18:38<01:37, 12.16s/it]"
     ]
    },
    {
     "name": "stdout",
     "output_type": "stream",
     "text": [
      "Fibre\n",
      "cycle!\n",
      "Special:Random\n",
      "Clark University\n",
      "Private university\n",
      "Tax breaks\n",
      "Tax avoidance\n",
      "Tax\n",
      "Direct tax\n"
     ]
    },
    {
     "name": "stderr",
     "output_type": "stream",
     "text": [
      "\r",
      " 93%|█████████▎| 93/100 [18:46<01:24, 12.11s/it]"
     ]
    },
    {
     "name": "stdout",
     "output_type": "stream",
     "text": [
      "Tax\n",
      "cycle!\n",
      "Special:Random\n",
      "Military Cross and Bar\n",
      "Military decoration\n",
      "Medal\n",
      "Jewellery\n",
      "Adornment\n",
      "Beauty\n",
      "Idea\n",
      "Philosophy\n"
     ]
    },
    {
     "name": "stderr",
     "output_type": "stream",
     "text": [
      "\r",
      " 94%|█████████▍| 94/100 [18:55<01:12, 12.08s/it]"
     ]
    },
    {
     "name": "stdout",
     "output_type": "stream",
     "text": [
      "Succes! Philosophy\n",
      "Special:Random\n",
      "T'ai chi ch'uan\n",
      "Neijia\n",
      "Chinese martial arts\n",
      "Umbrella term\n",
      "Categorization\n",
      "Binary relation\n",
      "Mathematics\n",
      "Quantity\n",
      "Counting\n",
      "Element (mathematics)\n"
     ]
    },
    {
     "name": "stderr",
     "output_type": "stream",
     "text": [
      "\r",
      " 95%|█████████▌| 95/100 [19:07<01:00, 12.08s/it]"
     ]
    },
    {
     "name": "stdout",
     "output_type": "stream",
     "text": [
      "Mathematics\n",
      "cycle!\n",
      "Special:Random\n",
      "Cavalier\n",
      "Roundhead\n",
      "Parliament of England\n",
      "Legislature\n",
      "Deliberative assembly\n",
      "Parliamentary procedure\n",
      "Procedural law\n",
      "Court\n",
      "Tribunal\n",
      "Institution\n",
      "Social structure\n",
      "Social science\n",
      "Discipline (academia)\n",
      "Branch (academia)\n",
      "Knowledge\n"
     ]
    },
    {
     "name": "stderr",
     "output_type": "stream",
     "text": [
      "\r",
      " 96%|█████████▌| 96/100 [19:21<00:48, 12.10s/it]"
     ]
    },
    {
     "name": "stdout",
     "output_type": "stream",
     "text": [
      "Succes! Knowledge\n",
      "Special:Random\n",
      "First-class cricket\n",
      "Cricket\n",
      "Bat-and-ball games\n",
      "Playing field\n",
      "Sport\n",
      "Competition\n",
      "Territory (animal)\n",
      "Ethology\n",
      "Scientific method\n",
      "OxfordDictionaries.com\n",
      "List of online dictionaries\n",
      "Dictionary\n",
      "Word\n",
      "Linguistics\n",
      "Language\n",
      "Communication\n",
      "Meaning (semiotics)\n",
      "Semiotics\n",
      "Meaning-making\n",
      "Psychology\n",
      "Science\n",
      "Knowledge\n"
     ]
    },
    {
     "name": "stderr",
     "output_type": "stream",
     "text": [
      "\r",
      " 97%|█████████▋| 97/100 [19:44<00:36, 12.21s/it]"
     ]
    },
    {
     "name": "stdout",
     "output_type": "stream",
     "text": [
      "Succes! Knowledge\n",
      "Special:Random\n",
      "Shaivism\n",
      "Shiva\n",
      "Hindu deities\n",
      "Deva (Hinduism)\n",
      "Deity\n",
      "Supernatural\n",
      "Physical law\n",
      "Scientific theory\n",
      "Reproducibility\n",
      "Measurements\n",
      "Natural sciences\n",
      "Science\n",
      "Knowledge\n"
     ]
    },
    {
     "name": "stderr",
     "output_type": "stream",
     "text": [
      "\r",
      " 98%|█████████▊| 98/100 [19:59<00:24, 12.24s/it]"
     ]
    },
    {
     "name": "stdout",
     "output_type": "stream",
     "text": [
      "Succes! Knowledge\n",
      "Special:Random\n"
     ]
    },
    {
     "name": "stderr",
     "output_type": "stream",
     "text": [
      "\r",
      " 99%|█████████▉| 99/100 [20:00<00:12, 12.12s/it]"
     ]
    },
    {
     "name": "stdout",
     "output_type": "stream",
     "text": [
      "no links!\n",
      "Special:Random\n",
      "Gmina Rudna\n",
      "Gmina\n",
      "Poland\n",
      "Geographic coordinate system\n",
      "Coordinate system\n",
      "Geometry\n",
      "Mathematics\n",
      "Quantity\n",
      "Counting\n",
      "Element (mathematics)\n"
     ]
    },
    {
     "name": "stderr",
     "output_type": "stream",
     "text": [
      "\r",
      "100%|██████████| 100/100 [20:11<00:00, 12.11s/it]"
     ]
    },
    {
     "name": "stdout",
     "output_type": "stream",
     "text": [
      "Mathematics\n",
      "cycle!\n"
     ]
    },
    {
     "name": "stderr",
     "output_type": "stream",
     "text": [
      "\n"
     ]
    }
   ],
   "source": [
    "success = 0\n",
    "length = []\n",
    "for i in tqdm(range(100)):\n",
    "    res = google('Special:Random', [])\n",
    "    success += res[0]\n",
    "    if res[0] != 0:\n",
    "        length.append(res[1])"
   ]
  },
  {
   "cell_type": "code",
   "execution_count": 7,
   "metadata": {},
   "outputs": [
    {
     "data": {
      "text/plain": [
       "63"
      ]
     },
     "execution_count": 7,
     "metadata": {},
     "output_type": "execute_result"
    }
   ],
   "source": [
    "success"
   ]
  },
  {
   "cell_type": "markdown",
   "metadata": {},
   "source": [
    "Проверка на то, что статья о философии - философия в категории"
   ]
  },
  {
   "cell_type": "code",
   "execution_count": 8,
   "metadata": {},
   "outputs": [
    {
     "data": {
      "text/plain": [
       "0.63"
      ]
     },
     "execution_count": 8,
     "metadata": {},
     "output_type": "execute_result"
    }
   ],
   "source": [
    "success/100"
   ]
  },
  {
   "cell_type": "code",
   "execution_count": 9,
   "metadata": {},
   "outputs": [
    {
     "data": {
      "image/png": "[encoded data removed]",
      "text/plain": [
       "<matplotlib.figure.Figure at 0x7f0ea457da20>"
      ]
     },
     "metadata": {},
     "output_type": "display_data"
    }
   ],
   "source": [
    "plt.hist(length)\n",
    "plt.show()"
   ]
  },
  {
   "cell_type": "markdown",
   "metadata": {},
   "source": [
    "## 2. Books lib (0.5 баллов)\n",
    "Напишите сайт-библиотеку для книг. Он должен удовлетворять следующему функционалу:\n",
    "* Иметь одну главную страницу со списком авторов и ниже их произведений.\n",
    "* Можно кликнуть на автора и получить список его произведений на отдельной стр.\n",
    "* Можно кликнуть на книгу и получить текст книги на отдельной стр.\n",
    "* Оформление и улучшение функционала приветствуются. Но можно обойтись заголовками и ссылками.\n",
    "\n",
    "<b>Особенности реализации</b>:\n",
    "* Список книг и авторов заранее не задан и должен быть создан автоматически. (<i>как - понятно из следующего описания</i>)\n",
    "* Все книги хранятся по каталогам, которые имеют имя автора.\n",
    "* Каждая книга имеет название, которое и будет показано в ссылке.\n",
    "* Архив с книгами в папке с заданием (books.zip).\n",
    "* Плюсом будет, если вы \"замайните\" книги, вместо использования готового архива (+0.2 балла).\n",
    "* Использовать flask и bootstrap стили.\n",
    "\n",
    "<b>PS</b> Лучше выполнять не в ipython notebook, а прислать отчет в pdf и код."
   ]
  },
  {
   "cell_type": "code",
   "execution_count": null,
   "metadata": {},
   "outputs": [],
   "source": []
  }
 ],
 "metadata": {
  "kernelspec": {
   "display_name": "Python 3",
   "language": "python",
   "name": "python3"
  },
  "language_info": {
   "codemirror_mode": {
    "name": "ipython",
    "version": 3
   },
   "file_extension": ".py",
   "mimetype": "text/x-python",
   "name": "python",
   "nbconvert_exporter": "python",
   "pygments_lexer": "ipython3",
   "version": "3.6.5"
  }
 },
 "nbformat": 4,
 "nbformat_minor": 2
}
